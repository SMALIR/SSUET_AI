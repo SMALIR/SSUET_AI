{
 "cells": [
  {
   "cell_type": "code",
   "execution_count": 2,
   "metadata": {},
   "outputs": [
    {
     "name": "stdout",
     "output_type": "stream",
     "text": [
      "Name Syed Muhammad Ali Rizvi\n",
      "Age 32\n",
      "City Karachi\n",
      "Education BS CS\n",
      "Course Artificial Intelligence\n"
     ]
    }
   ],
   "source": [
    "name = \"Syed Muhammad Ali Rizvi\"\n",
    "age = 32\n",
    "city = \"Karachi\"\n",
    "education = \"BS CS\"\n",
    "course = \"Artificial Intelligence\"\n",
    "print(\"Name\",name)\n",
    "print(\"Age\",age)\n",
    "print(\"City\",city)\n",
    "print(\"Education\",education)\n",
    "print(\"Course\",course)"
   ]
  }
 ],
 "metadata": {
  "kernelspec": {
   "display_name": "Python 3",
   "language": "python",
   "name": "python3"
  },
  "language_info": {
   "codemirror_mode": {
    "name": "ipython",
    "version": 3
   },
   "file_extension": ".py",
   "mimetype": "text/x-python",
   "name": "python",
   "nbconvert_exporter": "python",
   "pygments_lexer": "ipython3",
   "version": "3.7.4"
  }
 },
 "nbformat": 4,
 "nbformat_minor": 2
}
