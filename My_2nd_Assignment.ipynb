{
 "cells": [
  {
   "cell_type": "markdown",
   "metadata": {},
   "source": [
    "## 1. Divisibility Check of two numbers\n",
    "\n",
    "Write a Python program to check whether a number is completely divisible by another number. Accept two integer values form the user\n",
    "##### Program Console Sample Output 1:\n",
    "Enter numerator: 4\n",
    "\n",
    "Enter Denominator: 2\n",
    "\n",
    "Number 4 is Completely divisible by 2\n",
    "###### Program Console Sample Output 2:\n",
    "Enter numerator: 7\n",
    "\n",
    "Enter Denominator: 4\n",
    "\n",
    "Number 7 is not Completely divisible by 4"
   ]
  },
  {
   "cell_type": "code",
   "execution_count": 2,
   "metadata": {},
   "outputs": [
    {
     "name": "stdout",
     "output_type": "stream",
     "text": [
      "Enter the Numerator 7\n",
      "Enter the Denominator 2\n",
      "Thr number  7  is not completely divisble by  2\n",
      "Condition ended\n"
     ]
    }
   ],
   "source": [
    "Numerator = int(input('Enter the Numerator '))\n",
    "Denominator = int(input('Enter the Denominator '))\n",
    "\n",
    "if Numerator % Denominator ==0:\n",
    "    print ('The number ',Numerator,' is completely divisible by ',Denominator)\n",
    "else:\n",
    "    print('Thr number ',Numerator,' is not completely divisble by ',Denominator)\n",
    "print ('Condition ended')\n"
   ]
  },
  {
   "cell_type": "markdown",
   "metadata": {},
   "source": [
    "## 2. Copy string n times\n",
    "Write a Python program to get a string which is n (non-negative integer) copies of a given string.\n",
    "##### Program Console Output:\n",
    "Enter String: Hi\n",
    "\n",
    "How many copies of String you need: 4\n",
    "\n",
    "4 Copies of Hi are HiHiHiHi"
   ]
  },
  {
   "cell_type": "code",
   "execution_count": 9,
   "metadata": {},
   "outputs": [
    {
     "name": "stdout",
     "output_type": "stream",
     "text": [
      "Enter the String hi\n",
      "Enter the number 4\n",
      "HiHiHiHi\n"
     ]
    }
   ],
   "source": [
    "v_string = input('Enter the String ')\n",
    "n = int(input('Enter the number '))\n",
    "\n",
    "print(v_string.title()*n)"
   ]
  },
  {
   "cell_type": "markdown",
   "metadata": {},
   "source": [
    "## 3. Vowel Tester\n",
    "Write a Python program to test whether a passed letter is a vowel or not\n",
    "#### Program Console Output 1:\n",
    "Enter a character: A\n",
    "\n",
    "Letter A is Vowel\n",
    "#### Program Console Output 2:\n",
    "Enter a character: e\n",
    "\n",
    "Letter e is Vowel\n",
    "#### Program Console Output 2:\n",
    "Enter a character: N\n",
    "Letter N is not Vowel"
   ]
  },
  {
   "cell_type": "code",
   "execution_count": 8,
   "metadata": {},
   "outputs": [
    {
     "name": "stdout",
     "output_type": "stream",
     "text": [
      "Enter the letter A\n",
      "Letter: A is vowel\n",
      "Condition Ended\n"
     ]
    }
   ],
   "source": [
    "vowel = ['a','e','i','o','u']\n",
    "letter = input('Enter the letter ')\n",
    "\n",
    "if letter.lower() in vowel:\n",
    "    print('Letter:',letter,'is vowel')\n",
    "else:\n",
    "    print('Leter:',letter,'is not vowel')\n",
    "print('Condition Ended')"
   ]
  },
  {
   "cell_type": "markdown",
   "metadata": {},
   "source": [
    "## 4. Odd No.s\n",
    "Use the third argument of the range() function to make a list of the odd numbers from 1 to 20. Use a for loop to print each number."
   ]
  },
  {
   "cell_type": "code",
   "execution_count": 10,
   "metadata": {},
   "outputs": [
    {
     "name": "stdout",
     "output_type": "stream",
     "text": [
      "1\n",
      "3\n",
      "5\n",
      "7\n",
      "9\n",
      "11\n",
      "13\n",
      "15\n",
      "17\n",
      "19\n"
     ]
    }
   ],
   "source": [
    "for i in range(1,20,2):\n",
    "    print(i)"
   ]
  },
  {
   "cell_type": "markdown",
   "metadata": {},
   "source": [
    "## 5. Food Slicing\n",
    "Make a python program that contains your nine favourite dishes in a list called foods.Print the message, \n",
    "\n",
    "**The first three items in the list are:**\n",
    "\n",
    "Then use a slice to print the first three items from that program’s list.Print the message, \n",
    "\n",
    "**Three items from the middle of the list are:**\n",
    "\n",
    "Use a slice to print three items from the middle of the list.Print the message, \n",
    "\n",
    "**The last three items in the list are:**\n",
    "\n",
    "Use a slice to print the last three items in the list."
   ]
  },
  {
   "cell_type": "code",
   "execution_count": 2,
   "metadata": {},
   "outputs": [
    {
     "name": "stdout",
     "output_type": "stream",
     "text": [
      "full list ['biryani', 'pizza', 'burger', 'tikka', 'bbq', 'karahi', 'stake', 'prawn', 'mandi']\n",
      "frist three ['biryani', 'pizza', 'burger']\n",
      "middle three ['tikka', 'bbq', 'karahi']\n",
      "last three ['stake', 'prawn', 'mandi']\n"
     ]
    }
   ],
   "source": [
    "food = ['biryani','pizza','burger','tikka','bbq','karahi','stake','prawn','mandi']\n",
    "print ('full list',food[:])\n",
    "print ('frist three',food[:3])\n",
    "print ('middle three',food[3:-3])\n",
    "print ('last three',food[-3:])"
   ]
  },
  {
   "cell_type": "code",
   "execution_count": null,
   "metadata": {},
   "outputs": [],
   "source": []
  }
 ],
 "metadata": {
  "kernelspec": {
   "display_name": "Python 3",
   "language": "python",
   "name": "python3"
  },
  "language_info": {
   "codemirror_mode": {
    "name": "ipython",
    "version": 3
   },
   "file_extension": ".py",
   "mimetype": "text/x-python",
   "name": "python",
   "nbconvert_exporter": "python",
   "pygments_lexer": "ipython3",
   "version": "3.7.4"
  }
 },
 "nbformat": 4,
 "nbformat_minor": 2
}
